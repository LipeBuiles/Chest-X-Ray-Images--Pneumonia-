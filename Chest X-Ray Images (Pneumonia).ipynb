{
  "nbformat": 4,
  "nbformat_minor": 0,
  "metadata": {
    "colab": {
      "name": "Train.ipynb",
      "provenance": [],
      "collapsed_sections": []
    },
    "kernelspec": {
      "name": "python3",
      "display_name": "Python 3"
    },
    "accelerator": "GPU"
  },
  "cells": [
    {
      "cell_type": "code",
      "metadata": {
        "id": "TJV3kUbJp7zx",
        "colab_type": "code",
        "outputId": "ac8e4086-7739-4628-8d50-6865210c4530",
        "colab": {
          "base_uri": "https://localhost:8080/",
          "height": 34
        }
      },
      "source": [
        "#Cargar el data Set mediante el comprimido en google drive\n",
        "#Link público https://drive.google.com/file/d/16ajJdjHzPr_WwfauEOv5dKZ1IKYoMQyk/view?usp=sharing\n",
        "from google.colab import drive\n",
        "drive.mount('/content/gdrive')"
      ],
      "execution_count": 1,
      "outputs": [
        {
          "output_type": "stream",
          "text": [
            "Drive already mounted at /content/gdrive; to attempt to forcibly remount, call drive.mount(\"/content/gdrive\", force_remount=True).\n"
          ],
          "name": "stdout"
        }
      ]
    },
    {
      "cell_type": "code",
      "metadata": {
        "id": "BEI426aJqVNI",
        "colab_type": "code",
        "colab": {}
      },
      "source": [
        "#Descomprimimos el dataSet\n",
        "import os\n",
        "import zipfile\n",
        "\n",
        "\n",
        "ubicacion_zip = '/content/gdrive/My Drive/chest_xray.zip'\n",
        "ubicacion_folder_unzip = '/content/chest_xray'\n",
        "\n",
        "zip_ref = zipfile.ZipFile(ubicacion_zip, 'r')\n",
        "zip_ref.extractall(ubicacion_folder_unzip)\n",
        "zip_ref.close()"
      ],
      "execution_count": 0,
      "outputs": []
    },
    {
      "cell_type": "code",
      "metadata": {
        "id": "e1NFWmx9Bytm",
        "colab_type": "code",
        "colab": {}
      },
      "source": [
        "#asignación de las carpetas de entrenamiento\n",
        "train_normal_dir = os.path.join(ubicacion_folder_unzip+'/chest_xray/train/NORMAL')\n",
        "train_neumonia_dir = os.path.join(ubicacion_folder_unzip+'/chest_xray/train/PNEUMONIA')\n",
        "\n",
        "test_normal_dir = os.path.join(ubicacion_folder_unzip+'/chest_xray/test/NORMAL')\n",
        "test_neumonia_dir = os.path.join(ubicacion_folder_unzip+'/chest_xray/test/PNEUMONIA')\n",
        "\n",
        "val_normal_dir = os.path.join(ubicacion_folder_unzip+'/chest_xray/val/NORMAL')\n",
        "val_neumonia_dir = os.path.join(ubicacion_folder_unzip+'/chest_xray/val/PNEUMONIA')"
      ],
      "execution_count": 0,
      "outputs": []
    },
    {
      "cell_type": "code",
      "metadata": {
        "id": "iGrlTNnyB24a",
        "colab_type": "code",
        "colab": {}
      },
      "source": [
        "#Entrenamiento de las imagenes normales\n",
        "train_normal_names = os.listdir(train_normal_dir)\n",
        "print(train_normal_names[:10])\n",
        "\n",
        "test_normal_names = os.listdir(test_normal_dir)\n",
        "print(test_normal_names[:10])\n",
        "\n",
        "val_normal_names = os.listdir(val_normal_dir)\n",
        "print(val_normal_names[:10])"
      ],
      "execution_count": 0,
      "outputs": []
    },
    {
      "cell_type": "code",
      "metadata": {
        "id": "FGBV3yaoB7xc",
        "colab_type": "code",
        "colab": {}
      },
      "source": [
        "#Entrenamiento de las imagenes pneumonía\n",
        "train_neumonia_names = os.listdir(train_neumonia_dir)\n",
        "print(train_neumonia_names[:10])\n",
        "\n",
        "test_neumonia_names = os.listdir(test_neumonia_dir)\n",
        "print(test_neumonia_names[:10])\n",
        "\n",
        "val_neumonia_names = os.listdir(val_neumonia_dir)\n",
        "print(val_neumonia_names[:10])"
      ],
      "execution_count": 0,
      "outputs": []
    },
    {
      "cell_type": "code",
      "metadata": {
        "id": "IESMmvRaF7pi",
        "colab_type": "code",
        "colab": {}
      },
      "source": [
        "#Importar numpy para el calculo dce matrices, tf para las redes neuronales, keras para el procesamiento de imagnes\n",
        "#y matplotlib para el procesamiento de imagenes\n",
        "import os\n",
        "import numpy as np\n",
        "\n",
        "import tensorflow as tf\n",
        "\n",
        "import keras\n",
        "from keras.optimizers import RMSprop\n",
        "from keras.preprocessing.image import ImageDataGenerator\n",
        "\n",
        "import matplotlib.pyplot as plt\n",
        "import matplotlib.image as mpimg"
      ],
      "execution_count": 0,
      "outputs": []
    },
    {
      "cell_type": "code",
      "metadata": {
        "id": "vJCumHraF9wr",
        "colab_type": "code",
        "colab": {}
      },
      "source": [
        "#Número de columnas a mostar en el dataSet ejemplo de imagnes 4x4\n",
        "nrows = 4\n",
        "ncols = 4\n",
        "\n",
        "pic_index = 0"
      ],
      "execution_count": 0,
      "outputs": []
    },
    {
      "cell_type": "code",
      "metadata": {
        "id": "sl8NxiqbGFOd",
        "colab_type": "code",
        "colab": {}
      },
      "source": [
        "#Recorre el directorio train e imprime la muestra ejemplo \n",
        "fig = plt.gcf()\n",
        "fig.set_size_inches(ncols * 2, nrows * 2)\n",
        "\n",
        "pic_index += 8\n",
        "next_normal_pix = [os.path.join(train_normal_dir, fname) for fname in train_normal_names[pic_index-8:pic_index]]\n",
        "next_neumonia_pix = [os.path.join(train_neumonia_dir, fname) for fname in train_neumonia_names[pic_index-8:pic_index]]\n",
        "\n",
        "fig.suptitle(\"Dataset TRAIN\")\n",
        "\n",
        "for i, img_path in enumerate(next_normal_pix+next_neumonia_pix):\n",
        "    sp = plt.subplot(nrows, ncols, i + 1)\n",
        "    sp.axis('Off')\n",
        "    plt.title(img_path.split(\"/\")[2])\n",
        "    img = mpimg.imread(img_path)\n",
        "    plt.imshow(img, cmap='gray')\n",
        "\n",
        "plt.show()"
      ],
      "execution_count": 0,
      "outputs": []
    },
    {
      "cell_type": "code",
      "metadata": {
        "id": "K_opD6EqPmJL",
        "colab_type": "code",
        "colab": {}
      },
      "source": [
        "#Recorre el directorio test e imprime la muestra ejemplo \n",
        "fig = plt.gcf()\n",
        "fig.set_size_inches(ncols * 2, nrows * 2)\n",
        "\n",
        "pic_index += 8\n",
        "next_normal_pix = [os.path.join(test_normal_dir, fname) for fname in test_normal_names[pic_index-8:pic_index]]\n",
        "next_neumonia_pix = [os.path.join(test_neumonia_dir, fname) for fname in test_neumonia_names[pic_index-8:pic_index]]\n",
        "\n",
        "fig.suptitle(\"Dataset TEST\")\n",
        "\n",
        "for i, img_path in enumerate(next_normal_pix+next_neumonia_pix):\n",
        "    sp = plt.subplot(nrows, ncols, i + 1)\n",
        "    sp.axis('Off')\n",
        "    plt.title(img_path.split(\"/\")[2])\n",
        "    img = mpimg.imread(img_path)\n",
        "    plt.imshow(img, cmap='gray')\n",
        "\n",
        "plt.show()"
      ],
      "execution_count": 0,
      "outputs": []
    },
    {
      "cell_type": "code",
      "metadata": {
        "id": "6xPkfumNBNVd",
        "colab_type": "code",
        "colab": {}
      },
      "source": [
        "#Recorre el directorio val e imprime la muestra ejemplo \n",
        "fig = plt.gcf()\n",
        "fig.set_size_inches(ncols * 2, nrows * 2)\n",
        "\n",
        "pic_index += 8\n",
        "next_normal_pix = [os.path.join(val_normal_dir, fname) for fname in val_normal_names[pic_index-8:pic_index]]\n",
        "next_neumonia_pix = [os.path.join(val_neumonia_dir, fname) for fname in val_neumonia_names[pic_index-8:pic_index]]\n",
        "\n",
        "fig.suptitle(\"Dataset VAL\")\n",
        "\n",
        "for i, img_path in enumerate(next_normal_pix+next_neumonia_pix):\n",
        "    sp = plt.subplot(nrows, ncols, i + 1)\n",
        "    sp.axis('Off')\n",
        "    plt.title(img_path.split(\"/\")[2])\n",
        "    img = mpimg.imread(img_path)\n",
        "    plt.imshow(img, cmap='gray')\n",
        "\n",
        "plt.show()"
      ],
      "execution_count": 0,
      "outputs": []
    },
    {
      "cell_type": "code",
      "metadata": {
        "id": "QI7xYeFhGPPx",
        "colab_type": "code",
        "colab": {}
      },
      "source": [
        "# Todas las imágenes serán reescaladas por 1./255\n",
        "train_datagen = ImageDataGenerator(rescale=1/255)\n",
        "test_datagen = ImageDataGenerator(rescale=1/255)\n",
        "val_datagen = ImageDataGenerator(rescale=1/255)\n",
        "\n",
        "# Carpeta donde se encuentran las imagenes de entrenamiento\n",
        "train_dir = os.path.join(ubicacion_folder_unzip+ '/chest_xray/train/')\n",
        "test_dir = os.path.join(ubicacion_folder_unzip+ '/chest_xray/test/')\n",
        "val_dir = os.path.join(ubicacion_folder_unzip+ '/chest_xray/val/')\n",
        "\n",
        "train_generator = train_datagen.flow_from_directory(\n",
        "        train_dir,  \n",
        "        target_size=(28, 28),  # alterando este parametro podemos redimensionar las imagenes desde la lectura\n",
        "        batch_size=128, # dejar fijo\n",
        "        class_mode='binary') #clasificacion binaria\n",
        "\n",
        "test_generator = test_datagen.flow_from_directory(\n",
        "        test_dir,  \n",
        "        target_size=(28, 28),  # alterando este parametro podemos redimensionar las imagenes desde la lectura\n",
        "        batch_size=128, # dejar fijo\n",
        "        class_mode='binary') #clasificacion binaria\n",
        "\n",
        "val_generator = val_datagen.flow_from_directory(\n",
        "        val_dir,  \n",
        "        target_size=(28, 28),  # alterando este parametro podemos redimensionar las imagenes desde la lectura\n",
        "        batch_size=128, # dejar fijo\n",
        "        class_mode='binary') #clasificacion binaria"
      ],
      "execution_count": 0,
      "outputs": []
    },
    {
      "cell_type": "code",
      "metadata": {
        "id": "PucSa86CHSHG",
        "colab_type": "code",
        "colab": {}
      },
      "source": [
        "#Creación de la red neuronal convolutiva y un activador sigmoid\n",
        "model = keras.Sequential()\n",
        "\n",
        "model.add(keras.layers.Conv2D(64, (3,3), activation='relu', input_shape=(28, 28, 3)))\n",
        "model.add(keras.layers.MaxPooling2D(2, 2))\n",
        "model.add(keras.layers.Flatten())\n",
        "model.add(keras.layers.Dense(128, activation=tf.nn.relu)) #Con 128 neuronas\n",
        "model.add(keras.layers.Dense(128, activation=tf.nn.relu)) #Agregamos una capa adicional con 128 neuronas\n",
        "model.add(keras.layers.Dense(1, activation=tf.nn.sigmoid))"
      ],
      "execution_count": 0,
      "outputs": []
    },
    {
      "cell_type": "code",
      "metadata": {
        "id": "it8LcNE_HoEh",
        "colab_type": "code",
        "colab": {}
      },
      "source": [
        "#Compilación del modelo con el optimizador Adam\n",
        "model.compile(loss='binary_crossentropy',\n",
        "              #optimizer=RMSprop(lr=0.001),\n",
        "              optimizer = keras.optimizers.Adam(lr=0.001),\n",
        "              metrics=['acc'])"
      ],
      "execution_count": 0,
      "outputs": []
    },
    {
      "cell_type": "code",
      "metadata": {
        "id": "svgj5N55HscN",
        "colab_type": "code",
        "colab": {}
      },
      "source": [
        "#Entrenamiento del modelo con train\n",
        "history = model.fit_generator(train_generator, steps_per_epoch=20, epochs=20, verbose=1)"
      ],
      "execution_count": 0,
      "outputs": []
    },
    {
      "cell_type": "code",
      "metadata": {
        "id": "HYIP5yu7It0h",
        "colab_type": "code",
        "colab": {}
      },
      "source": [
        "#Convergencia del entrenamiento para train\n",
        "plt.plot(history.history['loss'])\n",
        "plt.show()"
      ],
      "execution_count": 0,
      "outputs": []
    },
    {
      "cell_type": "code",
      "metadata": {
        "id": "shcSDXZ19Gj9",
        "colab_type": "code",
        "colab": {}
      },
      "source": [
        "#Entrenamiento del modelo con test\n",
        "history = model.fit_generator(test_generator, steps_per_epoch=20, epochs=20, verbose=1)"
      ],
      "execution_count": 0,
      "outputs": []
    },
    {
      "cell_type": "code",
      "metadata": {
        "id": "ocPMY-vxK2-X",
        "colab_type": "code",
        "colab": {}
      },
      "source": [
        "#Convergencia del entrenamiento para test\n",
        "plt.plot(history.history['loss'])\n",
        "plt.show()"
      ],
      "execution_count": 0,
      "outputs": []
    },
    {
      "cell_type": "code",
      "metadata": {
        "id": "H9XdswOMNhCm",
        "colab_type": "code",
        "colab": {}
      },
      "source": [
        "#Entrenamiento del modelo con val\n",
        "history = model.fit_generator(val_generator, steps_per_epoch=20, epochs=20, verbose=1)"
      ],
      "execution_count": 0,
      "outputs": []
    },
    {
      "cell_type": "code",
      "metadata": {
        "id": "9wXhRh92NviX",
        "colab_type": "code",
        "colab": {}
      },
      "source": [
        "#Convergencia del entrenamiento para val\n",
        "plt.plot(history.history['loss'])\n",
        "plt.show()"
      ],
      "execution_count": 0,
      "outputs": []
    }
  ]
}